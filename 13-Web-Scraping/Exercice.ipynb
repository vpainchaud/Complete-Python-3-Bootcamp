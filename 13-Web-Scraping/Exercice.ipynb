{
 "cells": [
  {
   "cell_type": "markdown",
   "metadata": {},
   "source": [
    "### Our goal is to grab all books title with 2stars rating"
   ]
  },
  {
   "cell_type": "code",
   "execution_count": 1,
   "metadata": {},
   "outputs": [],
   "source": [
    "import requests\n",
    "import bs4"
   ]
  },
  {
   "cell_type": "code",
   "execution_count": 2,
   "metadata": {},
   "outputs": [],
   "source": [
    "base_url = 'http://books.toscrape.com/catalogue/page-{}.html'"
   ]
  },
  {
   "cell_type": "code",
   "execution_count": 12,
   "metadata": {},
   "outputs": [
    {
     "data": {
      "text/plain": [
       "'A Light in the Attic'"
      ]
     },
     "execution_count": 12,
     "metadata": {},
     "output_type": "execute_result"
    }
   ],
   "source": [
    "import requests\n",
    "import bs4\n",
    "books = []\n",
    "base_url = 'http://books.toscrape.com/catalogue/page-{}.html'\n",
    "page = 1\n",
    "req = requests.get(base_url.format(str(page)))\n",
    "soup = bs4.BeautifulSoup(req.text,'lxml')\n",
    "product_pod = soup.select('.product_pod')\n",
    "book = product_pod[0]\n",
    "title = book.select('a')[1]['title']\n",
    "title"
   ]
  },
  {
   "cell_type": "code",
   "execution_count": 8,
   "metadata": {},
   "outputs": [
    {
     "name": "stdout",
     "output_type": "stream",
     "text": [
      "Scraping page #1\n",
      "Scraping page #2\n",
      "Scraping page #3\n",
      "Scraping page #4\n",
      "Scraping page #5\n",
      "Scraping page #6\n",
      "Scraping page #7\n",
      "Scraping page #8\n",
      "Scraping page #9\n",
      "Scraping page #10\n",
      "Scraping page #11\n",
      "Scraping page #12\n",
      "Scraping page #13\n",
      "Scraping page #14\n",
      "Scraping page #15\n",
      "Scraping page #16\n",
      "Scraping page #17\n",
      "Scraping page #18\n",
      "Scraping page #19\n",
      "Scraping page #20\n",
      "Scraping page #21\n",
      "Scraping page #22\n",
      "Scraping page #23\n",
      "Scraping page #24\n",
      "Scraping page #25\n",
      "Scraping page #26\n",
      "Scraping page #27\n",
      "Scraping page #28\n",
      "Scraping page #29\n",
      "Scraping page #30\n",
      "Scraping page #31\n",
      "Scraping page #32\n",
      "Scraping page #33\n",
      "Scraping page #34\n",
      "Scraping page #35\n",
      "Scraping page #36\n",
      "Scraping page #37\n",
      "Scraping page #38\n",
      "Scraping page #39\n",
      "Scraping page #40\n",
      "Scraping page #41\n",
      "Scraping page #42\n",
      "Scraping page #43\n",
      "Scraping page #44\n",
      "Scraping page #45\n",
      "Scraping page #46\n",
      "Scraping page #47\n",
      "Scraping page #48\n",
      "Scraping page #49\n",
      "Scraping page #50\n",
      "Scraping page #51\n"
     ]
    }
   ],
   "source": [
    "import requests\n",
    "import bs4\n",
    "books = []\n",
    "base_url = 'http://books.toscrape.com/catalogue/page-{}.html'\n",
    "page = 1\n",
    "\n",
    "while True:\n",
    "    \n",
    "    print(f'Scraping page #{page}')\n",
    "    req = requests.get(base_url.format(str(page)))\n",
    "\n",
    "    soup = bs4.BeautifulSoup(req.text,'lxml')\n",
    "    product_pod = soup.select('.product_pod')\n",
    "    if len(product_pod) == 0:\n",
    "        break\n",
    "    \n",
    "    for book in product_pod:\n",
    "\n",
    "        title = book.select('a')[1].attrs['title']\n",
    "        rating = book.select('p')[0].attrs['class'][1]\n",
    "\n",
    "        if rating == 'Two':\n",
    "            books.append(title)\n",
    "    page += 1"
   ]
  },
  {
   "cell_type": "code",
   "execution_count": 9,
   "metadata": {},
   "outputs": [
    {
     "data": {
      "text/plain": [
       "196"
      ]
     },
     "execution_count": 9,
     "metadata": {},
     "output_type": "execute_result"
    }
   ],
   "source": [
    "len(books)"
   ]
  },
  {
   "cell_type": "code",
   "execution_count": null,
   "metadata": {},
   "outputs": [],
   "source": []
  }
 ],
 "metadata": {
  "kernelspec": {
   "display_name": "Python 3",
   "language": "python",
   "name": "python3"
  },
  "language_info": {
   "codemirror_mode": {
    "name": "ipython",
    "version": 3
   },
   "file_extension": ".py",
   "mimetype": "text/x-python",
   "name": "python",
   "nbconvert_exporter": "python",
   "pygments_lexer": "ipython3",
   "version": "3.8.5"
  }
 },
 "nbformat": 4,
 "nbformat_minor": 4
}
